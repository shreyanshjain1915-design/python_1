{
  "nbformat": 4,
  "nbformat_minor": 0,
  "metadata": {
    "colab": {
      "provenance": []
    },
    "kernelspec": {
      "name": "python3",
      "display_name": "Python 3"
    },
    "language_info": {
      "name": "python"
    }
  },
  "cells": [
    {
      "cell_type": "markdown",
      "source": [
        "Section 1 : Python Basics Questions"
      ],
      "metadata": {
        "id": "AYHoqm8MEweL"
      }
    },
    {
      "cell_type": "markdown",
      "source": [
        "Q.1 What is Python, and why is it popular?\n",
        "Ans:\n",
        "\n",
        "Python is a high-level, interpreted, and general-purpose programming language that emphasizes code readability and simple syntax. It was created by Guido van Rossum and officially released in 1991.\n",
        "\n",
        "Python supports multiple programming paradigms, including procedural, object-oriented, and functional programming. It is dynamically typed and uses automatic memory management, making development faster and easier.\n",
        "\n",
        "Phython is popular\n",
        "\n",
        "\n",
        "1. Easy to Learn and Use:\n",
        "\n",
        " Python has a clean and straightforward syntax similar to English.\n",
        "It's ideal for beginners who are new to programming, as it reduces the complexity found in other languages.\n",
        "2. Versatile and Powerful:\n",
        "Python is a multi-purpose language that can be used in many domains. It powers websites through frameworks like Django and Flask, drives data analysis with libraries such as Pandas and NumPy, and supports cutting-edge machine learning through TensorFlow and PyTorch. It is also widely used in automation, game development, desktop applications, cybersecurity, and more. This broad range of applications makes Python one of the most flexible languages available.\n",
        "\n",
        "3. Large and Active Community:\n",
        "Python has a massive global community of developers who constantly contribute to its growth. Whether you're a beginner or a professional, there's an abundance of resources such as tutorials, forums, and Q&A sites to help you learn and solve problems. The community also maintains and updates thousands of open-source libraries and tools, which makes development faster and more efficient.\n",
        "\n",
        "4. Cross-Platform Compatibility:\n",
        "Python is designed to run on multiple operating systems like Windows, macOS, and Linux without requiring code changes. This cross-platform support makes Python highly portable. Developers can write a program on one system and expect it to work on others with little to no modification, saving time and effort.\n",
        "\n",
        "5. Extensive Libraries and Frameworks:\n",
        "One of Python’s biggest strengths is its vast collection of built-in and third-party libraries. These libraries provide pre-written code for common tasks, allowing developers to work more efficiently. For example, requests makes web communication easy, matplotlib helps in plotting graphs, and OpenCV handles image and video processing. This reduces the need to build functionalities from scratch\n",
        "6. Integration Capabilities:\n",
        "Python can be easily integrated with other programming languages like C, C++, and Java. It also works well with web technologies such as HTML, XML, and JSON, and can interact with various databases and APIs. This makes Python a powerful choice for building systems that combine multiple tools and platforms.\n",
        "\n",
        "7. Strong Industry Adoption and Job Market:\n",
        "Python is trusted and used by top tech companies such as Google, Netflix, Facebook, NASA, and Dropbox. Its simplicity and flexibility make it a go-to language in industry. As a result, there is a high demand for Python developers in various fields including software development, data science, AI, automation, and more. This widespread adoption leads to excellent job opportunities and career growth for Python professionals.\n",
        "\n",
        "\n",
        "\n",
        "\n",
        "  \n",
        "\n",
        "\n",
        "\n",
        "\n",
        "\n",
        "\n"
      ],
      "metadata": {
        "id": "7bJUR4jKEyad"
      }
    },
    {
      "cell_type": "markdown",
      "source": [
        "End Of Question 1"
      ],
      "metadata": {
        "id": "71QKr9I_OPo0"
      }
    },
    {
      "cell_type": "markdown",
      "source": [
        "Q.2 What is an interpreter in Python\n",
        "Ans: An interpreter in Python is a program that reads and executes Python code line by line.\n",
        "\n",
        "It translates the high-level Python code into machine-readable instructions and runs them immediately, without the need for a separate compilation step.\n",
        "\n",
        "This makes it easy to test and debug code interactively.\n",
        "When you write and run a Python program, the interpreter processes each line of code one at a time. It converts each line of high-level code (which humans understand) into machine-level instructions (which the computer understands), and then executes it immediately.\n",
        "\n"
      ],
      "metadata": {
        "id": "n_JvnkG8HHIR"
      }
    },
    {
      "cell_type": "code",
      "source": [
        "print(\"Hello , World\")"
      ],
      "metadata": {
        "id": "q2hUnkMjN3JU"
      },
      "execution_count": null,
      "outputs": []
    },
    {
      "cell_type": "markdown",
      "source": [
        "print(\"Hello, World!\")\n",
        "\n",
        "When you run this line, the interpreter:\n",
        "\n",
        "Reads the statement\n",
        "\n",
        "Converts it into machine instructions\n",
        "\n",
        "Immediately executes it\n",
        "\n",
        "Displays the result:\n",
        "Hello, World!\n",
        "\n"
      ],
      "metadata": {
        "id": "W7I-kHsTHHEy"
      }
    },
    {
      "cell_type": "markdown",
      "source": [
        "End Of  Question 2"
      ],
      "metadata": {
        "id": "e5fJZZfcOGwD"
      }
    },
    {
      "cell_type": "markdown",
      "source": [
        "\n",
        "\n",
        "Q.3 What are Pre-defined Keywords in Python?\n",
        "\n",
        "Ans:\n",
        "\n",
        "Predefined keywords in Python are special reserved words that have specific meanings and are used to define the structure and rules of the language. These keywords play a crucial role in controlling the flow of a program, such as making decisions, handling loops, defining functions and classes, managing exceptions, and more.\n",
        "\n",
        "Because they have built-in functionality, keywords cannot be used as variable names, function names, or any other identifiers in your program. Trying to use a keyword as a variable name will result in a syntax error.\n",
        "\n",
        " The most commonly used keywords include:\n",
        "\n",
        "Control flow keywords: if, else, elif, for, while, break, continue\n",
        "\n",
        "Exception handling: try, except, finally\n",
        "\n",
        "Boolean logic: True, False, None, and, or, not\n",
        "\n",
        "Function and class definitions: def, class, return\n",
        "\n",
        "Importing modules: import , from\n",
        "\n",
        "In total, Python has around 35 keywords (may vary slightly with version), and while you may not use all of them every day, many appear frequently in real-world programs. Learning how and when to use them is essential to writing clean and functional Python code.\n"
      ],
      "metadata": {
        "id": "SmJT9h8jHG18"
      }
    },
    {
      "cell_type": "code",
      "source": [
        "help('keywords')"
      ],
      "metadata": {
        "id": "9JDBMVHlQHFN"
      },
      "execution_count": null,
      "outputs": []
    },
    {
      "cell_type": "markdown",
      "source": [
        "These keywords include false, none, true, and, as, assert, async, await, break, class, continue, def, del, elif, else, except, finally, for, from, global, if, import, in, is, lambda, nonlocal, not, or, pass, raise, return, try, while, with, and yield.\n",
        "\n",
        "Each of these keywords has a specific purpose in the language. For example, if, else, and elif are used for decision making, while for and while are used for loops. The def and class keywords are used to define functions and classes. Try, except, and finally are used for exception handling. Import, from, and as help bring in and manage modules. These keywords cannot be used as names for variables, functions, or other identifiers in Python programs."
      ],
      "metadata": {
        "id": "Uvr4EXOERowm"
      }
    },
    {
      "cell_type": "code",
      "source": [
        "import keyword\n",
        "word = input(\"Enter a word: \")\n",
        "if keyword.iskeyword(word):\n",
        "    print(f\"{word} is a Python keyword.\")\n",
        "else:\n",
        "    print(f\"{word} is not a Python keyword.\")"
      ],
      "metadata": {
        "colab": {
          "base_uri": "https://localhost:8080/"
        },
        "id": "cEaxfMbKdS-d",
        "outputId": "39e870c4-148e-4287-db42-a74598ea27a1"
      },
      "execution_count": null,
      "outputs": [
        {
          "output_type": "stream",
          "name": "stdout",
          "text": [
            "Enter a word: if\n",
            "if is a Python keyword.\n"
          ]
        }
      ]
    },
    {
      "cell_type": "markdown",
      "source": [
        "End Of Q3"
      ],
      "metadata": {
        "id": "AsqC0FkDRdtf"
      }
    },
    {
      "cell_type": "markdown",
      "source": [
        "Q.4 Can keywords be used as variable names\n",
        "Ans:\n",
        "\n",
        "No , keywords cannot be used as variable names in Python.\n",
        "\n",
        "Keywords are reserved words that have predefined meanings in the language and are part of its syntax.\n",
        "\n",
        "Using them as variable names will result in a syntax error."
      ],
      "metadata": {
        "id": "0Mk47NtfHGya"
      }
    },
    {
      "cell_type": "code",
      "source": [
        "#Example:\n",
        "# if = 10\n",
        "# This will raise a syntax error"
      ],
      "metadata": {
        "id": "MenkuJMbSiD_"
      },
      "execution_count": null,
      "outputs": []
    },
    {
      "cell_type": "markdown",
      "source": [],
      "metadata": {
        "id": "wpxVl8K-HGvb"
      }
    },
    {
      "cell_type": "markdown",
      "source": [
        "Q.5 What is mutability in Python\n",
        "Ans:\n",
        "\n",
        "Mutability in Python refers to the ability of an object to be changed after it is created.\n",
        "\n",
        "Mutable objects: Objects whose state or value can be modified after creation. Examples: lists, dictionaries, sets.\n",
        "\n",
        "Immutable objects: Objects whose state or value cannot be changed after creation. Examples: integers, strings, tuples"
      ],
      "metadata": {
        "id": "iMaGT3PuHGMN"
      }
    },
    {
      "cell_type": "code",
      "source": [
        "# Mutable example (list)\n",
        "my_list = [1, 2, 3]\n",
        "my_list[0] = 10  # Modifying the list\n",
        "print(my_list)  # Output: [10, 2, 3]\n",
        "\n",
        "# Immutable example (string)\n",
        "my_string = \"hello\"\n",
        "# This will create a new string instead of modifying the original one\n",
        "my_string = \"world\"  # Reassigning to a new string\n",
        "print(my_string)  # Output: world\n"
      ],
      "metadata": {
        "colab": {
          "base_uri": "https://localhost:8080/"
        },
        "id": "kn0yndjZTO5D",
        "outputId": "b9e55f51-beed-4dfe-bd3b-4379893831a2"
      },
      "execution_count": null,
      "outputs": [
        {
          "output_type": "stream",
          "name": "stdout",
          "text": [
            "[10, 2, 3]\n",
            "world\n"
          ]
        }
      ]
    },
    {
      "cell_type": "markdown",
      "source": [],
      "metadata": {
        "id": "FlbnhwjGHF85"
      }
    },
    {
      "cell_type": "markdown",
      "source": [
        "Q.6 Why are lists mutable, but tuples are immutable\n",
        "Ans:\n",
        "\n",
        "Lists are mutable, while tuples are immutable, due to the design choices in Python to provide different behaviors for these data structures.\n",
        "\n",
        "Reasons:\n",
        "\n",
        "Purpose & Use Cases:\n",
        "\n",
        "Lists: Lists are designed to be mutable because they are typically used when you need a collection of items that can change over time (e.g., adding, removing, or updating elements).\n",
        "\n",
        "Tuples: Tuples are designed to be immutable because they are used for fixed, unchangeable collections of items. This is useful when you need to ensure that the data cannot be modified, making tuples more secure and hashable (e.g., for use as dictionary keys).\n",
        "\n",
        "Performance:\n",
        "\n",
        "Lists: Mutability makes lists flexible but also slightly slower when compared to tuples, especially in terms of memory management and operations like copying.\n",
        "\n",
        "Tuples: Since tuples are immutable, their elements cannot be changed. This makes them faster and more memory-efficient than lists.\n",
        "\n",
        "Hashability:\n",
        "\n",
        "Tuples: Because tuples are immutable, they can be used as keys in dictionaries and elements in sets, which require the objects to be hashable (i.e., they cannot be changed once created).\n",
        "\n",
        "Lists: Lists are mutable, so they cannot be used as dictionary keys or set elements because their contents can change, leading to unpredictable behavior."
      ],
      "metadata": {
        "id": "263Y4Bj2HFs_"
      }
    },
    {
      "cell_type": "markdown",
      "source": [],
      "metadata": {
        "id": "QZGD93a1HC0K"
      }
    },
    {
      "cell_type": "markdown",
      "source": [
        "Q.7 What is the difference between “==” and “is” operators in Python\n",
        "Ans: In Python, both == and is are used for comparison, but they serve different purposes:\n",
        "\n",
        "== (Equality Operator): Compares the* values* of two objects to check if they are equal.\n",
        "\n",
        "is (Identity Operator): Compares the memory addresses of two objects to check if they are the same object in memory"
      ],
      "metadata": {
        "id": "a0wYvT_tTmMU"
      }
    },
    {
      "cell_type": "code",
      "source": [
        "# (Equality Operator):\n",
        "#Compares the values of two objects to see if they are equal.\n",
        "#It checks if the contents of two objects are the same, regardless of whether they are the same object in memory.\n",
        "#Example:\n",
        "\n",
        "\n",
        "a = [1, 2, 3]\n",
        "b = [1, 2, 3]\n",
        "print(a == b)  # Output: True (they have the same values)"
      ],
      "metadata": {
        "colab": {
          "base_uri": "https://localhost:8080/"
        },
        "id": "uf56fFAYTpkE",
        "outputId": "c903f173-2b13-40e6-87a9-755e83192b76"
      },
      "execution_count": null,
      "outputs": [
        {
          "output_type": "stream",
          "name": "stdout",
          "text": [
            "True\n"
          ]
        }
      ]
    },
    {
      "cell_type": "code",
      "source": [
        "# is (Identity Operator):\n",
        "# Compares the memory addresses of two objects to see if they are the same object in memory.It checks if both references point to the exact same object.\n",
        "# Example:\n",
        "a = [1, 2, 3]\n",
        "b = a\n",
        "print(a is b)  # Output: True (a and b refer to the same object in memory)"
      ],
      "metadata": {
        "colab": {
          "base_uri": "https://localhost:8080/"
        },
        "id": "n0CovvVTUGmN",
        "outputId": "2710db41-3622-436c-adaf-0cb194f62ba2"
      },
      "execution_count": null,
      "outputs": [
        {
          "output_type": "stream",
          "name": "stdout",
          "text": [
            "True\n"
          ]
        }
      ]
    },
    {
      "cell_type": "markdown",
      "source": [],
      "metadata": {
        "id": "loimV1QuTmGE"
      }
    },
    {
      "cell_type": "markdown",
      "source": [
        "Q.8 What are logical operators in Python\n",
        "Ans:\n",
        "\n",
        "Logical Operators:are used to combine conditional statements and perform logical operations. They allow you to make decisions based on multiple conditions by using the (and, or, not) operator."
      ],
      "metadata": {
        "id": "xQcAIFnPTmC3"
      }
    },
    {
      "cell_type": "code",
      "source": [
        "# and (logical and) :\n",
        "   # Returns True if both conditions are true.\n",
        "a = 5\n",
        "b = 10\n",
        "if a > 0 and b > 0:\n",
        "    print(\"Both a and b are positive.\")\n"
      ],
      "metadata": {
        "colab": {
          "base_uri": "https://localhost:8080/"
        },
        "id": "f4o-u3j1UZlW",
        "outputId": "1a1215f6-9da2-42b1-805f-10616fcda7d5"
      },
      "execution_count": null,
      "outputs": [
        {
          "output_type": "stream",
          "name": "stdout",
          "text": [
            "Both a and b are positive.\n"
          ]
        }
      ]
    },
    {
      "cell_type": "code",
      "source": [
        "# or (logical or ):\n",
        "# returns true if one of  condition or arguments is true (  Returns True if at least one of the conditions is true.)\n",
        "a=5\n",
        "b=8\n",
        "if a>12 or b<2:\n",
        "   print( \"a & b are true\")\n",
        "else:\n",
        "   print(\"a & b are not true as both and b condition is false so if block will not run \")\n",
        "x = 5\n",
        "y = 20\n",
        "if x > 3 or y < 15:\n",
        "    print(\"At least one of x or y is within the specified range\")"
      ],
      "metadata": {
        "colab": {
          "base_uri": "https://localhost:8080/"
        },
        "id": "AtcgOuIMUmJ9",
        "outputId": "1ccc00c9-d67a-4ecd-9bba-7f32f6edc9e7"
      },
      "execution_count": null,
      "outputs": [
        {
          "output_type": "stream",
          "name": "stdout",
          "text": [
            "a & b are not true\n",
            "At least one of x or y is within the specified range\n"
          ]
        }
      ]
    },
    {
      "cell_type": "code",
      "source": [
        "#not (logical not) :\n",
        "#Reverses the result of the condition. Returns True if the condition is false,\n",
        "#and False if the condition is true.'''\n",
        "x = 5\n",
        "if not(x > 10):\n",
        "    print(\"x is not greater than 10\")"
      ],
      "metadata": {
        "colab": {
          "base_uri": "https://localhost:8080/"
        },
        "id": "DOd9izutUl6o",
        "outputId": "50ef38e8-064f-43b7-dcf1-df547e64118b"
      },
      "execution_count": null,
      "outputs": [
        {
          "output_type": "stream",
          "name": "stdout",
          "text": [
            "x is not greater than 10\n"
          ]
        }
      ]
    },
    {
      "cell_type": "markdown",
      "source": [],
      "metadata": {
        "id": "XASeIjqmWVNO"
      }
    },
    {
      "cell_type": "markdown",
      "source": [
        "Q.9 What is type casting in Python\n",
        "Ans:\n",
        "\n",
        "Type Casting is the method to convert the Python variable datatype into a certain data type in order to perform\n",
        "\n",
        "the required operation by users. In this article, we will see the various techniques for typecasting.\n",
        "\n",
        "There can be two types of Type Casting in Python:\n",
        "\n",
        "1 Python Implicit Type Conversion\n",
        "2 Python Explicit Type Conversion"
      ],
      "metadata": {
        "id": "yfVNs331Tl_4"
      }
    },
    {
      "cell_type": "markdown",
      "source": [
        "Q.10 What is the difference between implicit and explicit type casting\n",
        "Ans:"
      ],
      "metadata": {
        "id": "kmbaLLo2Tl81"
      }
    },
    {
      "cell_type": "markdown",
      "source": [
        "implicit type Casting\n",
        "\n",
        "Python automatically converts one data type to another when needed, without requiring the user to explicitly do it.\n",
        " This happens when a smaller data type is assigned to a larger data type."
      ],
      "metadata": {
        "id": "Fu2LD0S8XknV"
      }
    },
    {
      "cell_type": "code",
      "source": [
        "# implicit type Casting\n",
        "\n",
        "#Python automatically converts one data type to another when needed, without requiring the user to explicitly do it.\n",
        "# This happens when a smaller data type is assigned to a larger data type.\n",
        "\n",
        "\n",
        "x = 5       # Integer\n",
        "y = 2.5     # Float\n",
        "result = x + y  # Implicitly converts x (int) to float\n",
        "print(result)  # Output: 7.5"
      ],
      "metadata": {
        "colab": {
          "base_uri": "https://localhost:8080/"
        },
        "id": "BRGp_sYlWgIk",
        "outputId": "61ab0e83-73c3-4d48-b0d2-59a6e2291dc2"
      },
      "execution_count": null,
      "outputs": [
        {
          "output_type": "stream",
          "name": "stdout",
          "text": [
            "7.5\n"
          ]
        }
      ]
    },
    {
      "cell_type": "markdown",
      "source": [
        "explicit type Casting\n",
        "Python allows you to explicitly convert one data type to another using built-in functions.\n",
        " these functions include:\n",
        "    int(): Converts a value to an integer.\n",
        "    float(): Converts a value to a float.\n",
        "    str(): Converts a value to a string.\n",
        "    list(): Converts a value to a list.\n",
        "    tuple(): Converts a value to a tuple.\n"
      ],
      "metadata": {
        "id": "VY-zW_YXTl5l"
      }
    },
    {
      "cell_type": "code",
      "source": [
        " # Converting a string to an integer\n",
        "str_value = \"123\"\n",
        "int_value = int(str_value)\n",
        "print(int_value)  # Output: 123 (as an integer)\n",
        "\n",
        "# Converting a float to an integer (explicit casting)\n",
        "float_value = 7.9\n",
        "int_value = int(float_value)\n",
        "print(int_value)  # Output: 7 (fractional part is truncated)"
      ],
      "metadata": {
        "id": "iD2nHePfXWyx"
      },
      "execution_count": null,
      "outputs": []
    },
    {
      "cell_type": "markdown",
      "source": [],
      "metadata": {
        "id": "1-idwUSzTl2g"
      }
    },
    {
      "cell_type": "markdown",
      "source": [
        "Q.11 What is the purpose of conditional statements in Python\n",
        "Ans:\n",
        "\n",
        "The purpose of conditional statements in Python is to allow the program to make decisions and execute specific blocks of code based on whether certain conditions are True or False.\n",
        "\n",
        "Types of Conditional Statements:\n",
        "\n",
        "if Statement:\n",
        "\n",
        "The if statement is used to test a condition. If the condition is True, the code inside the if block is executed.\n",
        "\n",
        "else Statement:\n",
        "\n",
        "The else statement is used to execute a block of code if the condition in the if statement is False.\n",
        "\n",
        "elif Statement:\n",
        "\n",
        "The elif (short for \"else if\") statement is used to test multiple conditions. It allows you to check multiple conditions if the if condition is False.\n",
        "\n",
        "Purpose of Conditional Statements:\n",
        "\n",
        "Control Flow: They determine the flow of execution by allowing the program to make decisions based on conditions.\n",
        "\n",
        "Branching Logic: Conditional statements help implement logic where different actions are performed based on different conditions (e.g., checking if a number is positive, negative, or zero).\n",
        "\n",
        "Decision Making: They allow the program to choose between two or more possible actions, making it more dynamic and flexible.\n",
        "\n"
      ],
      "metadata": {
        "id": "z8kAF2urTlZD"
      }
    },
    {
      "cell_type": "code",
      "source": [
        "#\n",
        "# if Statement:\n",
        "\n",
        "x = 10\n",
        "# The if statement is used to test a condition. If the condition is True, the code inside the if block is executed.\n",
        "if x > 5:\n",
        "    print(\"x is greater than 5\")\n"
      ],
      "metadata": {
        "id": "uw9K87ZtXzxM"
      },
      "execution_count": null,
      "outputs": []
    },
    {
      "cell_type": "code",
      "source": [
        "# else statement\n",
        "# The else statement is used to execute a block of code if the condition in the if statement is False.\n",
        "x = 3\n",
        "if x > 5:\n",
        "    print(\"x is greater than 5\")\n",
        "else:\n",
        "    print(\"x is not greater than 5\")"
      ],
      "metadata": {
        "id": "7wheiNn-XzfH"
      },
      "execution_count": null,
      "outputs": []
    },
    {
      "cell_type": "code",
      "source": [
        "# elif statement\n",
        "#    The elif statement in Python stands for \"else if\". It allows you to check multiple conditions in sequence after an initial if statement. If the condition of the if statement is False, Python checks the conditions of each elif in order. If one of the elif conditions is True, the corresponding block of code is executed. If none of the if or elif conditions are True, the else block (if provided) is executed.\n",
        "\n",
        "x = 10\n",
        "if x > 20:\n",
        "    print(\"x is greater than 20\")\n",
        "elif x > 10:\n",
        "    print(\"x is greater than 10\")\n"
      ],
      "metadata": {
        "id": "jHnZF8-1XzJu"
      },
      "execution_count": null,
      "outputs": []
    },
    {
      "cell_type": "markdown",
      "source": [],
      "metadata": {
        "id": "LSmMu4QDYaBD"
      }
    },
    {
      "cell_type": "markdown",
      "source": [
        "Q.12 How does the elif statement work\n",
        "Ans:\n",
        "\n",
        "The elif statement in Python stands for \"else if\". It allows you to check multiple conditions in sequence after an initial if statement. If the condition of the if statement is False, Python checks the conditions of each elif in order. If one of the elif conditions is True, the corresponding block of code is executed. If none of the if or elif conditions are True, the else block (if provided) is executed.\n",
        "\n",
        "How elif works:\n",
        "\n",
        "First, Python checks the condition in the if statement.\n",
        "\n",
        "If the if condition is True, the code block under if runs, and the rest of the elif and else conditions are skipped.\n",
        "\n",
        "If the if condition is False, Python checks the next condition in the elif statement.\n",
        "\n",
        "If the elif condition is True, the code block under elif is executed.\n",
        "\n",
        "If none of the if or elif conditions are True, the else block (if present) is executed."
      ],
      "metadata": {
        "id": "afBLWyiOYZyc"
      }
    },
    {
      "cell_type": "code",
      "source": [
        "x = 15\n",
        "\n",
        "if x > 20:\n",
        "    print(\"x is greater than 20\")\n",
        "elif x > 10:\n",
        "    print(\"x is greater than 10 but less than or equal to 20\")\n",
        "else:\n",
        "  print(\"x is less than or equal to 10\")"
      ],
      "metadata": {
        "colab": {
          "base_uri": "https://localhost:8080/"
        },
        "id": "1j7OiBWWYkYl",
        "outputId": "b3d523bc-fc1b-4eb3-8c2d-66a7ec11e02c"
      },
      "execution_count": null,
      "outputs": [
        {
          "output_type": "stream",
          "name": "stdout",
          "text": [
            "x is greater than 10 but less than or equal to 20\n"
          ]
        }
      ]
    },
    {
      "cell_type": "markdown",
      "source": [
        "Q.13 What is the difference between for and while loops\n",
        "Ans:\n",
        "\n",
        "The difference between for and while loops in Python lies in how they control iteration and when they stop.\n",
        "\n",
        "for loop:\n",
        "\n",
        "The for loop is used for iterating over a sequence (like a list, tuple, string, or range).\n",
        "\n",
        "It is typically used when the number of iterations is known or predetermined.\n",
        "\n",
        "Use case: The for loop is used when the number of iterations is known or when iterating over a collection.\n",
        "\n",
        "Syntax:\n",
        "\n",
        "for item in sequence:\n",
        "   for variable in iterable:\n",
        "    # block of code\n",
        "\n",
        "while loop:\n",
        "The while loop runs as long as a condition is true.\n",
        "\n",
        "It is typically used when the number of iterations is unknown and depends on a condition.\n",
        "\n",
        "Use case: The while loop is used when you do not know the number of iterations in advance but want to repeat until a certain condition is met\n",
        "\n",
        "Syntax:\n",
        "\n",
        "while condition:\n",
        "    # code block\n",
        "Key Differences:\n",
        "\n",
        "Iteration Mechanism:\n",
        "\n",
        "for loop: Iterates over a sequence (like a list, range, etc.).\n",
        "while loop: Runs as long as a condition is True.\n",
        "Use Case:\n",
        "\n",
        "for loop: Ideal when the number of iterations is known or you want to iterate over a collection.\n",
        "while loop: Ideal when the number of iterations is not known and the loop needs to run until a specific condition is met.\n"
      ],
      "metadata": {
        "id": "8M4XnmrkYiGN"
      }
    },
    {
      "cell_type": "code",
      "source": [
        "# Iterating through a list using a for loop\n",
        "fruits = [\"apple\", \"banana\", \"cherry\"]\n",
        "for fruit in fruits:\n",
        "    print(fruit)\n"
      ],
      "metadata": {
        "colab": {
          "base_uri": "https://localhost:8080/"
        },
        "id": "Ae-mLmDMZPBR",
        "outputId": "40320803-2be3-4619-9866-d4334d7e7888"
      },
      "execution_count": null,
      "outputs": [
        {
          "output_type": "stream",
          "name": "stdout",
          "text": [
            "apple\n",
            "banana\n",
            "cherry\n"
          ]
        }
      ]
    },
    {
      "cell_type": "code",
      "source": [
        "# Using a while loop to print numbers from 1 to 5\n",
        "x = 1\n",
        "while x <= 5:\n",
        "    print(x)\n",
        "    x += 1"
      ],
      "metadata": {
        "id": "x37CUbU6ZOHu"
      },
      "execution_count": null,
      "outputs": []
    },
    {
      "cell_type": "markdown",
      "source": [
        "Q14 Describe a scenario where a while loop is more suitable than a for loop.\n",
        "Ans:\n",
        "\n",
        "A while loop is more suitable than a for loop in situations where the number of iterations is unknown and depends on a dynamic condition that can change during the loop execution.\n",
        "\n",
        "Scenario: User Input Validation\n",
        "\n",
        "Consider a scenario where you want to ask the user for their age.\n",
        "The user should only enter a valid age (a positive integer).\n",
        "If the user enters an invalid age (such as a negative number or a non-numeric input), the program should keep asking until a valid input is given.\n",
        "Since you don't know how many attempts it will take for the user to provide valid input, a while loop is more suitable here.\n",
        "\n",
        " that why while is suitable:\n",
        "\n",
        "The number of attempts is unknown.\n",
        "The loop continues until the condition (a valid age) is met, making it ideal for input validation."
      ],
      "metadata": {
        "id": "7f-kPXgTYiCp"
      }
    },
    {
      "cell_type": "code",
      "source": [
        "while True:\n",
        "    try:\n",
        "        age = int(input(\"Enter your age: \"))\n",
        "        if age < 0:\n",
        "            print(\"Please enter a positive age.\")\n",
        "        else:\n",
        "            print(f\"Your age is {age}.\")\n",
        "            break  # Exit the loop once a valid input is entered\n",
        "    except ValueError:\n",
        "        print(\"Invalid input! Please enter a valid number.\")"
      ],
      "metadata": {
        "colab": {
          "base_uri": "https://localhost:8080/"
        },
        "id": "izo_CHaFZmkm",
        "outputId": "4ed67aa0-1af7-4c11-d309-daed67c4599a"
      },
      "execution_count": null,
      "outputs": [
        {
          "output_type": "stream",
          "name": "stdout",
          "text": [
            "Enter your age: 23\n",
            "Your age is 23.\n"
          ]
        }
      ]
    },
    {
      "cell_type": "markdown",
      "source": [
        "Section 2 : Python Practical Questions"
      ],
      "metadata": {
        "id": "OhXnzTfEYh_J"
      }
    },
    {
      "cell_type": "markdown",
      "source": [
        "Q1 Write a Python program to print \"Hello, World!\n",
        "\n"
      ],
      "metadata": {
        "id": "Nk1IF3L1Yh3e"
      }
    },
    {
      "cell_type": "code",
      "source": [
        "print (\"Hello, World!\")"
      ],
      "metadata": {
        "colab": {
          "base_uri": "https://localhost:8080/"
        },
        "id": "ds6UPoMGYhiP",
        "outputId": "ad1fa5a8-7bf0-4bf6-e946-e0e8d5843d9a"
      },
      "execution_count": null,
      "outputs": [
        {
          "output_type": "stream",
          "name": "stdout",
          "text": [
            "Hello, World!\n"
          ]
        }
      ]
    },
    {
      "cell_type": "markdown",
      "source": [
        "Q2 Q.2 Write a Python program that displays your name and age"
      ],
      "metadata": {
        "id": "XHyrmXuvaKh4"
      }
    },
    {
      "cell_type": "code",
      "source": [
        "name=input(\"Enter your name:\")\n",
        "age= input(\"Enter your age:\")\n",
        "print(f\"Hello, {name}! You are {age} years old.\")"
      ],
      "metadata": {
        "colab": {
          "base_uri": "https://localhost:8080/"
        },
        "id": "btJbxbVQeUv2",
        "outputId": "cae0d8e8-ddd2-473c-c83f-464dcdf53158"
      },
      "execution_count": null,
      "outputs": [
        {
          "output_type": "stream",
          "name": "stdout",
          "text": [
            "Enter your name:shreya\n",
            "Enter your age:56\n",
            "Hello, shreya! You are 56 years old.\n"
          ]
        }
      ]
    },
    {
      "cell_type": "markdown",
      "source": [
        "Q.3 Write code to print all the pre-defined keywords in Python using the keyword library"
      ],
      "metadata": {
        "id": "p-lI4qRycxVF"
      }
    },
    {
      "cell_type": "code",
      "source": [
        "# Ans:1\n",
        "help('keywords')\n"
      ],
      "metadata": {
        "colab": {
          "base_uri": "https://localhost:8080/"
        },
        "id": "JbG33vBFewdT",
        "outputId": "0a6cbd5f-a7ab-433c-c772-a588989cbeda"
      },
      "execution_count": null,
      "outputs": [
        {
          "output_type": "stream",
          "name": "stdout",
          "text": [
            "\n",
            "Here is a list of the Python keywords.  Enter any keyword to get more help.\n",
            "\n",
            "False               class               from                or\n",
            "None                continue            global              pass\n",
            "True                def                 if                  raise\n",
            "and                 del                 import              return\n",
            "as                  elif                in                  try\n",
            "assert              else                is                  while\n",
            "async               except              lambda              with\n",
            "await               finally             nonlocal            yield\n",
            "break               for                 not                 \n",
            "\n"
          ]
        }
      ]
    },
    {
      "cell_type": "code",
      "source": [
        "#Ans_2: keyword in list\n",
        "import keyword\n",
        "print(keyword.kwlist)"
      ],
      "metadata": {
        "colab": {
          "base_uri": "https://localhost:8080/"
        },
        "id": "UjJl6b7qfAPX",
        "outputId": "4327514d-ad06-4469-91f5-5604d19b4292"
      },
      "execution_count": null,
      "outputs": [
        {
          "output_type": "stream",
          "name": "stdout",
          "text": [
            "['False', 'None', 'True', 'and', 'as', 'assert', 'async', 'await', 'break', 'class', 'continue', 'def', 'del', 'elif', 'else', 'except', 'finally', 'for', 'from', 'global', 'if', 'import', 'in', 'is', 'lambda', 'nonlocal', 'not', 'or', 'pass', 'raise', 'return', 'try', 'while', 'with', 'yield']\n"
          ]
        }
      ]
    },
    {
      "cell_type": "markdown",
      "source": [],
      "metadata": {
        "id": "qd49XXD9cxRV"
      }
    },
    {
      "cell_type": "markdown",
      "source": [
        "Q.4 Write a program that checks if a given word is a Python keyword"
      ],
      "metadata": {
        "id": "9QXS8zbEcxNH"
      }
    },
    {
      "cell_type": "code",
      "source": [
        "#Ans\n",
        "\n",
        "import keyword\n",
        "word = input(\"Enter a word: \")\n",
        "if keyword.iskeyword(word):\n",
        "    print(f\"{word} is a Python keyword.\")\n",
        "else:\n",
        "    print(f\"{word} is not a Python keyword.\")"
      ],
      "metadata": {
        "colab": {
          "base_uri": "https://localhost:8080/"
        },
        "id": "bARnFZ__c-9a",
        "outputId": "75aab430-925f-4c00-82e3-66ae9d5671d8"
      },
      "execution_count": null,
      "outputs": [
        {
          "output_type": "stream",
          "name": "stdout",
          "text": [
            "Enter a word: or\n",
            "or is a Python keyword.\n"
          ]
        }
      ]
    },
    {
      "cell_type": "markdown",
      "source": [
        "Q.5 Create a list and tuple in Python, and demonstrate how attempting to change an element works differently for each"
      ],
      "metadata": {
        "id": "CUJzmQolfUJq"
      }
    },
    {
      "cell_type": "code",
      "source": [
        "my_list = [1, 2, 3]# List (mutable)\n",
        "\n",
        "my_tuple = (1, 2, 3)# Tuple (immutable)\n",
        "\n",
        "# List (mutable)\n",
        "my_lis = [1, 2, 3]\n",
        "my_lis[0] = 10  # Can change elements\n",
        "print(\"Updated List:\", my_lis)\n",
        "\n",
        "# Tuple (immutable)\n",
        "my_tup = (1, 2, 3)\n",
        "try:\n",
        "    my_tup[0] = 10  # Attempting to change an element will raise an error\n",
        "except TypeError as e:\n",
        "    print(\"Error:\", e)"
      ],
      "metadata": {
        "colab": {
          "base_uri": "https://localhost:8080/"
        },
        "id": "Jj3qtr0ZgpRL",
        "outputId": "c5ca1117-88d6-4592-c620-66659fc93c7d"
      },
      "execution_count": null,
      "outputs": [
        {
          "output_type": "stream",
          "name": "stdout",
          "text": [
            "Updated List: [10, 2, 3]\n",
            "Error: 'tuple' object does not support item assignment\n"
          ]
        }
      ]
    },
    {
      "cell_type": "markdown",
      "source": [
        "Q.6 Write a function to demonstrate the behavior of mutable and immutable arguments in Python."
      ],
      "metadata": {
        "id": "u_moiTDWg84f"
      }
    },
    {
      "cell_type": "code",
      "source": [
        "#Ans:\n",
        "# Function to modify a mutable object (list)\n",
        "def modify_list(lst):\n",
        "    lst.append(4)  # This will modify the original list\n",
        "\n",
        "# Function to modify an immutable object (string)\n",
        "def modify_string(s):\n",
        "    s += \" world\"  # This creates a new string, original remains unchanged\n",
        "\n",
        "# Demonstration with mutable and immutable data types\n",
        "\n",
        "# Mutable (list)\n",
        "my_lis = [1, 2, 3]\n",
        "modify_list(my_lis)\n",
        "print(\"Modified list:\", my_lis)  # Output: [1, 2, 3, 4]\n",
        "\n",
        "# Immutable (string)\n",
        "my_stri = \"hello\"\n",
        "modify_string(my_string)\n",
        "print(\"String after function call:\", my_stri)  # Output: \"hello\"\n"
      ],
      "metadata": {
        "id": "dgdinmmlg-og"
      },
      "execution_count": null,
      "outputs": []
    },
    {
      "cell_type": "markdown",
      "source": [
        "Q.7 Write a program that performs basic arithmetic operations on two user-input numbers\n",
        "\n"
      ],
      "metadata": {
        "id": "4CqwO9-3hTlQ"
      }
    },
    {
      "cell_type": "code",
      "source": [
        "num1 = int(input(\"Enter first number: \"))\n",
        "num2 = int(input(\"Enter second number: \"))\n",
        "\n",
        "print(\"Addition:\", num1 + num2)\n",
        "print(\"Subtraction:\", num1 - num2)\n",
        "print(\"Multiplication:\", num1 * num2)\n",
        "print(\"Division:\", num1 / num2 if num2 != 0 else \"Cannot divide by zero\")"
      ],
      "metadata": {
        "colab": {
          "base_uri": "https://localhost:8080/"
        },
        "id": "0p3SWDzqhEuc",
        "outputId": "6eb5876a-7247-41b3-8d42-48ac4f75fb4d"
      },
      "execution_count": null,
      "outputs": [
        {
          "output_type": "stream",
          "name": "stdout",
          "text": [
            "Enter first number: 4\n",
            "Enter second number: 4\n",
            "Addition: 8\n",
            "Subtraction: 0\n",
            "Multiplication: 16\n",
            "Division: 1.0\n"
          ]
        }
      ]
    },
    {
      "cell_type": "markdown",
      "source": [
        "Q.8 Write a program to demonstrate the use of logical operators"
      ],
      "metadata": {
        "id": "xJA55Xb8hku2"
      }
    },
    {
      "cell_type": "code",
      "source": [
        "#Ans:\n",
        "# Example with comparison operators and logical operators (AND, OR, Not)\n",
        "x = 10\n",
        "y = 20\n",
        "\n",
        "# AND operator (both conditions must be true)\n",
        "if x > 5 and y < 30:\n",
        "    print(\"Returns True if both conditions are True\")\n",
        "\n",
        "# OR operator (at least one condition must be true)\n",
        "if x < 5 or y > 15:\n",
        "    print(\"Returns True if at least one condition is True\")\n",
        "\n",
        "# NOT operator (reverses the condition - Returns the opposite of the condition)\n",
        "if not(x > 15):\n",
        "    print(\"x is not greater than 15\")"
      ],
      "metadata": {
        "colab": {
          "base_uri": "https://localhost:8080/"
        },
        "id": "uh2d_ePehfv4",
        "outputId": "96e4b29e-a7e9-4256-ddab-8215fe57b7dc"
      },
      "execution_count": null,
      "outputs": [
        {
          "output_type": "stream",
          "name": "stdout",
          "text": [
            "Returns True if both conditions are True\n",
            "Returns True if at least one condition is True\n",
            "x is not greater than 15\n"
          ]
        }
      ]
    },
    {
      "cell_type": "markdown",
      "source": [
        "Q.9 Write a Python program to convert user input from string to integer, float, and boolean types\n"
      ],
      "metadata": {
        "id": "tuqtovU7hfZU"
      }
    },
    {
      "cell_type": "code",
      "source": [
        "#Ans:\n",
        "# Get input from the user (input is always a string)\n",
        "user_input = input(\"Enter a value: \")\n",
        "\n",
        "# Convert to integer\n",
        "int_value = int(user_input)  # Convert input to integer\n",
        "print(\"Integer:\", int_value)\n",
        "\n",
        "# Convert to float\n",
        "float_value = float(user_input)  # Convert input to float\n",
        "print(\"Float:\", float_value)\n",
        "\n",
        "# Convert to boolean (empty string is False, non-empty string is True)\n",
        "bool_value = bool(user_input)  # Convert input to boolean\n",
        "print(\"Boolean:\", bool_value)"
      ],
      "metadata": {
        "colab": {
          "base_uri": "https://localhost:8080/"
        },
        "id": "XNgekGrmh0WB",
        "outputId": "3e8ba5cd-520f-4f6d-a5a7-65181b6c8eef"
      },
      "execution_count": null,
      "outputs": [
        {
          "output_type": "stream",
          "name": "stdout",
          "text": [
            "Enter a value: 2\n",
            "Integer: 2\n",
            "Float: 2.0\n",
            "Boolean: True\n"
          ]
        }
      ]
    },
    {
      "cell_type": "markdown",
      "source": [
        "Q.10 Write code to demonstrate type casting with list elements"
      ],
      "metadata": {
        "id": "Yp_EOFGNh5mm"
      }
    },
    {
      "cell_type": "code",
      "source": [
        "#Ans:\n",
        "str_lis = [\"10\", \"20\", \"30\"]\n",
        "int_lis= list(map(int, str_lis))\n",
        "print(\"List of integers:\", int_lis)"
      ],
      "metadata": {
        "colab": {
          "base_uri": "https://localhost:8080/"
        },
        "id": "Hy-XPUQsm2Wa",
        "outputId": "e4e3062a-0d37-4f47-968d-2652948217ca"
      },
      "execution_count": 1,
      "outputs": [
        {
          "output_type": "stream",
          "name": "stdout",
          "text": [
            "List of integers: [10, 20, 30]\n"
          ]
        }
      ]
    },
    {
      "cell_type": "markdown",
      "source": [
        "Q.11 Write a program that checks if a number is positive, negative, or zero"
      ],
      "metadata": {
        "id": "Nam80wQeh6uR"
      }
    },
    {
      "cell_type": "code",
      "source": [
        "#Ans:\n",
        "number = float(input(\"Enter a number: \"))\n",
        "\n",
        "if number > 0:\n",
        "    print(\"The number is positive.\")\n",
        "elif number < 0:\n",
        "    print(\"The number is negative.\")\n",
        "else:\n",
        "    print(\"The number is zero.\")"
      ],
      "metadata": {
        "colab": {
          "base_uri": "https://localhost:8080/"
        },
        "id": "42_TlzGvh7Tj",
        "outputId": "d274a87f-4631-4f04-adcb-79253d6e4d98"
      },
      "execution_count": null,
      "outputs": [
        {
          "output_type": "stream",
          "name": "stdout",
          "text": [
            "Enter a number: 3\n",
            "The number is positive.\n"
          ]
        }
      ]
    },
    {
      "cell_type": "markdown",
      "source": [
        "Q.12 Write a for loop to print numbers from 1 to 10"
      ],
      "metadata": {
        "id": "dDKhjgQiiN9x"
      }
    },
    {
      "cell_type": "code",
      "source": [
        "for i in range(1, 11):\n",
        "    print(i)"
      ],
      "metadata": {
        "colab": {
          "base_uri": "https://localhost:8080/"
        },
        "id": "UyRq8QF8jYqa",
        "outputId": "fb11d945-2e70-4d44-8233-eda0a6489d24"
      },
      "execution_count": 3,
      "outputs": [
        {
          "output_type": "stream",
          "name": "stdout",
          "text": [
            "1\n",
            "2\n",
            "3\n",
            "4\n",
            "5\n",
            "6\n",
            "7\n",
            "8\n",
            "9\n",
            "10\n"
          ]
        }
      ]
    },
    {
      "cell_type": "markdown",
      "source": [
        "13 Write a Python program to find the sum of all even numbers between 1 and 50"
      ],
      "metadata": {
        "id": "iIuMQqkQrYBW"
      }
    },
    {
      "cell_type": "code",
      "source": [
        "#Ans:\n",
        "\n",
        "# Initialize sum variable\n",
        "even_sum = 0\n",
        "\n",
        "# Loop through numbers from 1 to 50\n",
        "for num in range(1, 51):\n",
        "    if num % 2 == 0:\n",
        "        even_sum += num\n",
        "\n",
        "# Print the sum of even numbers\n",
        "print(\"Sum of all even numbers between 1 and 50:\", even_sum)"
      ],
      "metadata": {
        "id": "2MGKP3s8rvdS"
      },
      "execution_count": null,
      "outputs": []
    },
    {
      "cell_type": "markdown",
      "source": [
        "Q.14 Write a program to reverse a string using a while loop"
      ],
      "metadata": {
        "id": "3ps36LJbr26V"
      }
    },
    {
      "cell_type": "code",
      "source": [
        "#Ans:\n",
        "string = input(\"Enter a string: \")\n",
        "reversed_string = \"\"\n",
        "i = len(string) - 1\n",
        "\n",
        "while i >= 0:\n",
        "    reversed_string += string[i]\n",
        "    i -= 1\n",
        "\n",
        "print(\"Reversed string:\", reversed_string)"
      ],
      "metadata": {
        "id": "M10wqfY8rz5W"
      },
      "execution_count": null,
      "outputs": []
    },
    {
      "cell_type": "markdown",
      "source": [
        "Q.15 Write a Python program to calculate the factorial of a number provided by the user using a while loop"
      ],
      "metadata": {
        "id": "SpO5UAvwr5Ss"
      }
    },
    {
      "cell_type": "code",
      "source": [
        "#Ans:\n",
        "# Get input from the user\n",
        "num = int(input(\"Enter a number to calculate its factorial: \"))\n",
        "\n",
        "# Initialize variables\n",
        "factorial = 1\n",
        "i = 1\n",
        "\n",
        "# Calculate factorial using a while loop\n",
        "while i <= num:\n",
        "    factorial *= i\n",
        "    i += 1\n",
        "\n",
        "print(f\"The factorial of {num} is: {factorial}\")"
      ],
      "metadata": {
        "id": "4uB192rlr50S"
      },
      "execution_count": null,
      "outputs": []
    }
  ]
}